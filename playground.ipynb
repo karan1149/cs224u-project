{
 "cells": [
  {
   "cell_type": "code",
   "execution_count": 1,
   "metadata": {},
   "outputs": [],
   "source": [
    "import numpy as np\n",
    "import torch\n",
    "import torch.nn as nn\n",
    "import torch.nn.functional as F\n",
    "\n",
    "import pickle\n",
    "import argparse\n",
    "import karantools as kt\n",
    "import utils\n",
    "import encoders\n",
    "import similarity_functions\n",
    "import loss_functions\n",
    "\n",
    "CAPTION_DATA_PATH = 'outputs/caption_data.pkl'\n",
    "CNN_EMBEDDINGS_PATH = 'outputs/cnn_embeddings.pkl'\n",
    "\n",
    "NUM_EPOCHS = 10\n",
    "BATCH_SIZE = 1024\n",
    "LEARNING_RATE = 1e-4\n",
    "\n",
    "with open(CAPTION_DATA_PATH, 'rb') as f:\n",
    "    caption_data = pickle.load(f)\n",
    "\n",
    "with open(CNN_EMBEDDINGS_PATH, 'rb') as f:\n",
    "    cnn_embeddings = pickle.load(f)\n",
    "\n",
    "images = sorted(caption_data.keys())\n",
    "\n",
    "kt.assert_eq(images, sorted(cnn_embeddings.keys()))\n",
    "\n"
   ]
  },
  {
   "cell_type": "code",
   "execution_count": 2,
   "metadata": {},
   "outputs": [
    {
     "name": "stdout",
     "output_type": "stream",
     "text": [
      "PairEncoder(\n",
      "  (left_encoder): FCEncoder(\n",
      "    (layers): ModuleList(\n",
      "      (0): Linear(in_features=300, out_features=300, bias=True)\n",
      "    )\n",
      "  )\n",
      "  (right_encoder): FCEncoder(\n",
      "    (layers): ModuleList(\n",
      "      (0): Linear(in_features=2048, out_features=300, bias=True)\n",
      "    )\n",
      "  )\n",
      ")\n"
     ]
    }
   ],
   "source": [
    "left_encoder = encoders.FCEncoder((300, 300))\n",
    "right_encoder = encoders.FCEncoder((2048, 300))\n",
    "\n",
    "kt.assert_eq(len(utils.compute_output_shape(left_encoder, (1, 300))), 2)\n",
    "kt.assert_eq(len(utils.compute_output_shape(right_encoder, (1, 2048))), 2)\n",
    "kt.assert_eq(utils.compute_output_shape(left_encoder, (1, 300)), utils.compute_output_shape(right_encoder, (1, 2048)))\n",
    "\n",
    "pair_encoder = encoders.PairEncoder(left_encoder, right_encoder)\n",
    "\n",
    "print(pair_encoder)\n",
    "\n"
   ]
  },
  {
   "cell_type": "code",
   "execution_count": 7,
   "metadata": {},
   "outputs": [
    {
     "name": "stdout",
     "output_type": "stream",
     "text": [
      "torch.Size([300])\n"
     ]
    }
   ],
   "source": [
    "for epoch_i in range(NUM_EPOCHS):\n",
    "    pass"
   ]
  },
  {
   "cell_type": "code",
   "execution_count": null,
   "metadata": {},
   "outputs": [],
   "source": []
  }
 ],
 "metadata": {
  "kernelspec": {
   "display_name": "Python 3",
   "language": "python",
   "name": "python3"
  },
  "language_info": {
   "codemirror_mode": {
    "name": "ipython",
    "version": 3
   },
   "file_extension": ".py",
   "mimetype": "text/x-python",
   "name": "python",
   "nbconvert_exporter": "python",
   "pygments_lexer": "ipython3",
   "version": "3.7.3"
  }
 },
 "nbformat": 4,
 "nbformat_minor": 2
}
